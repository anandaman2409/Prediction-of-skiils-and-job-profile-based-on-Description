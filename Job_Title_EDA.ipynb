{
  "nbformat": 4,
  "nbformat_minor": 0,
  "metadata": {
    "colab": {
      "name": "Job_Title_EDA.ipynb",
      "provenance": [],
      "collapsed_sections": []
    },
    "kernelspec": {
      "name": "python3",
      "display_name": "Python 3"
    }
  },
  "cells": [
    {
      "cell_type": "markdown",
      "metadata": {
        "id": "rlZ5WSXf0pyv"
      },
      "source": [
        "Mount google drive"
      ]
    },
    {
      "cell_type": "code",
      "metadata": {
        "id": "zpDLp9Ko0ohn",
        "outputId": "565d854c-9564-4647-c67d-e4a4769451c8",
        "colab": {
          "base_uri": "https://localhost:8080/"
        }
      },
      "source": [
        "from google.colab import drive\n",
        "drive.mount('/content/drive')"
      ],
      "execution_count": 1,
      "outputs": [
        {
          "output_type": "stream",
          "text": [
            "Mounted at /content/drive\n"
          ],
          "name": "stdout"
        }
      ]
    },
    {
      "cell_type": "code",
      "metadata": {
        "id": "SNdoaRv202jg"
      },
      "source": [
        "path = '/content/drive/My Drive/case study-job title/'"
      ],
      "execution_count": 6,
      "outputs": []
    },
    {
      "cell_type": "markdown",
      "metadata": {
        "id": "uemCvELd0cLv"
      },
      "source": [
        "Read the Occupation Data "
      ]
    },
    {
      "cell_type": "code",
      "metadata": {
        "id": "lBjJW7TM0cxu",
        "outputId": "ab306935-0182-4125-9f46-590b3c6e6176",
        "colab": {
          "base_uri": "https://localhost:8080/"
        }
      },
      "source": [
        "import pandas as pd\n",
        "df_occup = pd.read_excel(path+'Occupation Data.xlsx')\n",
        "df_occup['Title'].value_counts()"
      ],
      "execution_count": 7,
      "outputs": [
        {
          "output_type": "execute_result",
          "data": {
            "text/plain": [
              "Audio and Video Equipment Technicians                1\n",
              "Radio Frequency Identification Device Specialists    1\n",
              "Pile-Driver Operators                                1\n",
              "Farm Equipment Mechanics and Service Technicians     1\n",
              "Industrial Ecologists                                1\n",
              "                                                    ..\n",
              "Curators                                             1\n",
              "Infantry                                             1\n",
              "Electromechanical Engineering Technologists          1\n",
              "Postal Service Clerks                                1\n",
              "Telecommunications Engineering Specialists           1\n",
              "Name: Title, Length: 1110, dtype: int64"
            ]
          },
          "metadata": {
            "tags": []
          },
          "execution_count": 7
        }
      ]
    },
    {
      "cell_type": "code",
      "metadata": {
        "id": "JoKxZI6S0iXT"
      },
      "source": [
        "occup_title = set(list(df_occup['Title']))"
      ],
      "execution_count": 8,
      "outputs": []
    },
    {
      "cell_type": "markdown",
      "metadata": {
        "id": "OWOj_tkb1j53"
      },
      "source": [
        "Reading the Skills data"
      ]
    },
    {
      "cell_type": "code",
      "metadata": {
        "id": "FzHtUiM11g8H",
        "outputId": "6a988a96-6eaa-41fd-bf4b-a802060e4518",
        "colab": {
          "base_uri": "https://localhost:8080/",
          "height": 296
        }
      },
      "source": [
        "df_skills = pd.read_excel(path+'Skills.xlsx')\n",
        "df_skills['Title'].value_counts()\n",
        "df_skills.head()"
      ],
      "execution_count": 9,
      "outputs": [
        {
          "output_type": "execute_result",
          "data": {
            "text/html": [
              "<div>\n",
              "<style scoped>\n",
              "    .dataframe tbody tr th:only-of-type {\n",
              "        vertical-align: middle;\n",
              "    }\n",
              "\n",
              "    .dataframe tbody tr th {\n",
              "        vertical-align: top;\n",
              "    }\n",
              "\n",
              "    .dataframe thead th {\n",
              "        text-align: right;\n",
              "    }\n",
              "</style>\n",
              "<table border=\"1\" class=\"dataframe\">\n",
              "  <thead>\n",
              "    <tr style=\"text-align: right;\">\n",
              "      <th></th>\n",
              "      <th>O*NET-SOC Code</th>\n",
              "      <th>Title</th>\n",
              "      <th>Element ID</th>\n",
              "      <th>Element Name</th>\n",
              "      <th>Scale ID</th>\n",
              "      <th>Scale Name</th>\n",
              "      <th>Data Value</th>\n",
              "      <th>N</th>\n",
              "      <th>Standard Error</th>\n",
              "      <th>Lower CI Bound</th>\n",
              "      <th>Upper CI Bound</th>\n",
              "      <th>Recommend Suppress</th>\n",
              "      <th>Not Relevant</th>\n",
              "      <th>Date</th>\n",
              "      <th>Domain Source</th>\n",
              "    </tr>\n",
              "  </thead>\n",
              "  <tbody>\n",
              "    <tr>\n",
              "      <th>0</th>\n",
              "      <td>11-1011.00</td>\n",
              "      <td>Chief Executives</td>\n",
              "      <td>2.A.1.a</td>\n",
              "      <td>Reading Comprehension</td>\n",
              "      <td>IM</td>\n",
              "      <td>Importance</td>\n",
              "      <td>4.12</td>\n",
              "      <td>8.0</td>\n",
              "      <td>0.13</td>\n",
              "      <td>3.88</td>\n",
              "      <td>4.37</td>\n",
              "      <td>N</td>\n",
              "      <td>NaN</td>\n",
              "      <td>07/2014</td>\n",
              "      <td>Analyst</td>\n",
              "    </tr>\n",
              "    <tr>\n",
              "      <th>1</th>\n",
              "      <td>11-1011.00</td>\n",
              "      <td>Chief Executives</td>\n",
              "      <td>2.A.1.a</td>\n",
              "      <td>Reading Comprehension</td>\n",
              "      <td>LV</td>\n",
              "      <td>Level</td>\n",
              "      <td>4.75</td>\n",
              "      <td>8.0</td>\n",
              "      <td>0.16</td>\n",
              "      <td>4.43</td>\n",
              "      <td>5.07</td>\n",
              "      <td>N</td>\n",
              "      <td>N</td>\n",
              "      <td>07/2014</td>\n",
              "      <td>Analyst</td>\n",
              "    </tr>\n",
              "    <tr>\n",
              "      <th>2</th>\n",
              "      <td>11-1011.00</td>\n",
              "      <td>Chief Executives</td>\n",
              "      <td>2.A.1.b</td>\n",
              "      <td>Active Listening</td>\n",
              "      <td>IM</td>\n",
              "      <td>Importance</td>\n",
              "      <td>4.12</td>\n",
              "      <td>8.0</td>\n",
              "      <td>0.13</td>\n",
              "      <td>3.88</td>\n",
              "      <td>4.37</td>\n",
              "      <td>N</td>\n",
              "      <td>NaN</td>\n",
              "      <td>07/2014</td>\n",
              "      <td>Analyst</td>\n",
              "    </tr>\n",
              "    <tr>\n",
              "      <th>3</th>\n",
              "      <td>11-1011.00</td>\n",
              "      <td>Chief Executives</td>\n",
              "      <td>2.A.1.b</td>\n",
              "      <td>Active Listening</td>\n",
              "      <td>LV</td>\n",
              "      <td>Level</td>\n",
              "      <td>4.88</td>\n",
              "      <td>8.0</td>\n",
              "      <td>0.23</td>\n",
              "      <td>4.43</td>\n",
              "      <td>5.32</td>\n",
              "      <td>N</td>\n",
              "      <td>N</td>\n",
              "      <td>07/2014</td>\n",
              "      <td>Analyst</td>\n",
              "    </tr>\n",
              "    <tr>\n",
              "      <th>4</th>\n",
              "      <td>11-1011.00</td>\n",
              "      <td>Chief Executives</td>\n",
              "      <td>2.A.1.c</td>\n",
              "      <td>Writing</td>\n",
              "      <td>IM</td>\n",
              "      <td>Importance</td>\n",
              "      <td>4.00</td>\n",
              "      <td>8.0</td>\n",
              "      <td>0.00</td>\n",
              "      <td>4.00</td>\n",
              "      <td>4.00</td>\n",
              "      <td>N</td>\n",
              "      <td>NaN</td>\n",
              "      <td>07/2014</td>\n",
              "      <td>Analyst</td>\n",
              "    </tr>\n",
              "  </tbody>\n",
              "</table>\n",
              "</div>"
            ],
            "text/plain": [
              "  O*NET-SOC Code             Title  ...     Date Domain Source\n",
              "0     11-1011.00  Chief Executives  ...  07/2014       Analyst\n",
              "1     11-1011.00  Chief Executives  ...  07/2014       Analyst\n",
              "2     11-1011.00  Chief Executives  ...  07/2014       Analyst\n",
              "3     11-1011.00  Chief Executives  ...  07/2014       Analyst\n",
              "4     11-1011.00  Chief Executives  ...  07/2014       Analyst\n",
              "\n",
              "[5 rows x 15 columns]"
            ]
          },
          "metadata": {
            "tags": []
          },
          "execution_count": 9
        }
      ]
    },
    {
      "cell_type": "code",
      "metadata": {
        "id": "LAMUiFSc1v3n",
        "outputId": "d0dad327-9f45-4f98-8f17-4ad5f764988f",
        "colab": {
          "base_uri": "https://localhost:8080/"
        }
      },
      "source": [
        "\n",
        "df_skills['Element Name'].value_counts()"
      ],
      "execution_count": 10,
      "outputs": [
        {
          "output_type": "execute_result",
          "data": {
            "text/plain": [
              "Active Learning                      1936\n",
              "Mathematics                          1936\n",
              "Active Listening                     1936\n",
              "Social Perceptiveness                1936\n",
              "Persuasion                           1936\n",
              "Management of Personnel Resources    1936\n",
              "Instructing                          1936\n",
              "Repairing                            1936\n",
              "Quality Control Analysis             1936\n",
              "Equipment Selection                  1936\n",
              "Installation                         1936\n",
              "Systems Evaluation                   1936\n",
              "Equipment Maintenance                1936\n",
              "Speaking                             1936\n",
              "Operation Monitoring                 1936\n",
              "Reading Comprehension                1936\n",
              "Learning Strategies                  1936\n",
              "Programming                          1936\n",
              "Time Management                      1936\n",
              "Management of Financial Resources    1936\n",
              "Monitoring                           1936\n",
              "Judgment and Decision Making         1936\n",
              "Management of Material Resources     1936\n",
              "Writing                              1936\n",
              "Troubleshooting                      1936\n",
              "Negotiation                          1936\n",
              "Service Orientation                  1936\n",
              "Operation and Control                1936\n",
              "Technology Design                    1936\n",
              "Operations Analysis                  1936\n",
              "Systems Analysis                     1936\n",
              "Coordination                         1936\n",
              "Complex Problem Solving              1936\n",
              "Science                              1936\n",
              "Critical Thinking                    1936\n",
              "Name: Element Name, dtype: int64"
            ]
          },
          "metadata": {
            "tags": []
          },
          "execution_count": 10
        }
      ]
    },
    {
      "cell_type": "markdown",
      "metadata": {
        "id": "CX9nzc871zke"
      },
      "source": [
        "Considering only those skills for respective title if importance of that skill is greater than 0"
      ]
    },
    {
      "cell_type": "code",
      "metadata": {
        "id": "EUU1lB-Q2Ws7"
      },
      "source": [
        "dict_title_skill={}\n",
        "skills = list(df_skills['Element Name'])\n",
        "job_title = list(df_skills['Title'])\n",
        "job_title_set = list(set(df_skills['Title']))\n",
        "scale_name = list(df_skills['Scale Name'])\n",
        "data_value = list(df_skills['Data Value'])\n",
        "\n",
        "for i in occup_title:\n",
        "    reqd_list = []\n",
        "    for j in range(len(job_title)):\n",
        "        #print('{} : {}'.format(scale_name[j],data_value[j]))\n",
        "        if job_title[j]==i: \n",
        "            if scale_name[j]=='Importance' and data_value[j]>0:\n",
        "                #print('here')   \n",
        "                reqd_list.append(skills[j])\n",
        "    \n",
        "    \n",
        "    listToStr = ', '.join([str(elem) for elem in reqd_list])\n",
        "    dict_title_skill[i]=listToStr"
      ],
      "execution_count": 12,
      "outputs": []
    },
    {
      "cell_type": "markdown",
      "metadata": {
        "id": "dI_KWHhP5_xt"
      },
      "source": [
        "Creating data frame containing Title and important skills"
      ]
    },
    {
      "cell_type": "code",
      "metadata": {
        "id": "vhgtFy5M2bxI",
        "outputId": "4c7cde7b-e412-45b3-d9db-0a447b431e10",
        "colab": {
          "base_uri": "https://localhost:8080/",
          "height": 402
        }
      },
      "source": [
        "df_title_skill=pd.DataFrame.from_dict(dict_title_skill,orient ='index')\n",
        "#df_title_skill.to_csv(path+'/title_skill.csv')\n",
        "\n",
        "# Renaming the column names\n",
        "df_title_skill['Title']=df_title_skill.index\n",
        "df_title_skill.columns=['Skills','Title']\n",
        "df_title_skill\n"
      ],
      "execution_count": 13,
      "outputs": [
        {
          "output_type": "execute_result",
          "data": {
            "text/html": [
              "<div>\n",
              "<style scoped>\n",
              "    .dataframe tbody tr th:only-of-type {\n",
              "        vertical-align: middle;\n",
              "    }\n",
              "\n",
              "    .dataframe tbody tr th {\n",
              "        vertical-align: top;\n",
              "    }\n",
              "\n",
              "    .dataframe thead th {\n",
              "        text-align: right;\n",
              "    }\n",
              "</style>\n",
              "<table border=\"1\" class=\"dataframe\">\n",
              "  <thead>\n",
              "    <tr style=\"text-align: right;\">\n",
              "      <th></th>\n",
              "      <th>Skills</th>\n",
              "      <th>Title</th>\n",
              "    </tr>\n",
              "  </thead>\n",
              "  <tbody>\n",
              "    <tr>\n",
              "      <th>Telecommunications Engineering Specialists</th>\n",
              "      <td>Reading Comprehension, Active Listening, Writi...</td>\n",
              "      <td>Telecommunications Engineering Specialists</td>\n",
              "    </tr>\n",
              "    <tr>\n",
              "      <th>Chemistry Teachers, Postsecondary</th>\n",
              "      <td>Reading Comprehension, Active Listening, Writi...</td>\n",
              "      <td>Chemistry Teachers, Postsecondary</td>\n",
              "    </tr>\n",
              "    <tr>\n",
              "      <th>Transportation Security Screeners</th>\n",
              "      <td>Reading Comprehension, Active Listening, Writi...</td>\n",
              "      <td>Transportation Security Screeners</td>\n",
              "    </tr>\n",
              "    <tr>\n",
              "      <th>Range Managers</th>\n",
              "      <td>Reading Comprehension, Active Listening, Writi...</td>\n",
              "      <td>Range Managers</td>\n",
              "    </tr>\n",
              "    <tr>\n",
              "      <th>Loan Counselors</th>\n",
              "      <td>Reading Comprehension, Active Listening, Writi...</td>\n",
              "      <td>Loan Counselors</td>\n",
              "    </tr>\n",
              "    <tr>\n",
              "      <th>...</th>\n",
              "      <td>...</td>\n",
              "      <td>...</td>\n",
              "    </tr>\n",
              "    <tr>\n",
              "      <th>Transportation Attendants, Except Flight Attendants</th>\n",
              "      <td>Reading Comprehension, Active Listening, Writi...</td>\n",
              "      <td>Transportation Attendants, Except Flight Atten...</td>\n",
              "    </tr>\n",
              "    <tr>\n",
              "      <th>Command and Control Center Officers</th>\n",
              "      <td></td>\n",
              "      <td>Command and Control Center Officers</td>\n",
              "    </tr>\n",
              "    <tr>\n",
              "      <th>Musicians, Instrumental</th>\n",
              "      <td>Reading Comprehension, Active Listening, Writi...</td>\n",
              "      <td>Musicians, Instrumental</td>\n",
              "    </tr>\n",
              "    <tr>\n",
              "      <th>Instructional Coordinators</th>\n",
              "      <td>Reading Comprehension, Active Listening, Writi...</td>\n",
              "      <td>Instructional Coordinators</td>\n",
              "    </tr>\n",
              "    <tr>\n",
              "      <th>Civil Drafters</th>\n",
              "      <td>Reading Comprehension, Active Listening, Writi...</td>\n",
              "      <td>Civil Drafters</td>\n",
              "    </tr>\n",
              "  </tbody>\n",
              "</table>\n",
              "<p>1110 rows × 2 columns</p>\n",
              "</div>"
            ],
            "text/plain": [
              "                                                                                               Skills                                              Title\n",
              "Telecommunications Engineering Specialists          Reading Comprehension, Active Listening, Writi...         Telecommunications Engineering Specialists\n",
              "Chemistry Teachers, Postsecondary                   Reading Comprehension, Active Listening, Writi...                  Chemistry Teachers, Postsecondary\n",
              "Transportation Security Screeners                   Reading Comprehension, Active Listening, Writi...                  Transportation Security Screeners\n",
              "Range Managers                                      Reading Comprehension, Active Listening, Writi...                                     Range Managers\n",
              "Loan Counselors                                     Reading Comprehension, Active Listening, Writi...                                    Loan Counselors\n",
              "...                                                                                               ...                                                ...\n",
              "Transportation Attendants, Except Flight Attend...  Reading Comprehension, Active Listening, Writi...  Transportation Attendants, Except Flight Atten...\n",
              "Command and Control Center Officers                                                                                  Command and Control Center Officers\n",
              "Musicians, Instrumental                             Reading Comprehension, Active Listening, Writi...                            Musicians, Instrumental\n",
              "Instructional Coordinators                          Reading Comprehension, Active Listening, Writi...                         Instructional Coordinators\n",
              "Civil Drafters                                      Reading Comprehension, Active Listening, Writi...                                     Civil Drafters\n",
              "\n",
              "[1110 rows x 2 columns]"
            ]
          },
          "metadata": {
            "tags": []
          },
          "execution_count": 13
        }
      ]
    },
    {
      "cell_type": "markdown",
      "metadata": {
        "id": "abbrMGIt7Szj"
      },
      "source": [
        "Merge Occupation data frame with Important Skills"
      ]
    },
    {
      "cell_type": "code",
      "metadata": {
        "id": "ApBZX1M66X4a",
        "outputId": "d016b8ef-e5de-4d14-9233-f73da97c0933",
        "colab": {
          "base_uri": "https://localhost:8080/",
          "height": 195
        }
      },
      "source": [
        "df_orig = pd.merge(df_occup, df_title_skill, on=['Title'])\n",
        "df = df_orig\n",
        "df.head()"
      ],
      "execution_count": 118,
      "outputs": [
        {
          "output_type": "execute_result",
          "data": {
            "text/html": [
              "<div>\n",
              "<style scoped>\n",
              "    .dataframe tbody tr th:only-of-type {\n",
              "        vertical-align: middle;\n",
              "    }\n",
              "\n",
              "    .dataframe tbody tr th {\n",
              "        vertical-align: top;\n",
              "    }\n",
              "\n",
              "    .dataframe thead th {\n",
              "        text-align: right;\n",
              "    }\n",
              "</style>\n",
              "<table border=\"1\" class=\"dataframe\">\n",
              "  <thead>\n",
              "    <tr style=\"text-align: right;\">\n",
              "      <th></th>\n",
              "      <th>O*NET-SOC Code</th>\n",
              "      <th>Title</th>\n",
              "      <th>Description</th>\n",
              "      <th>Skills</th>\n",
              "    </tr>\n",
              "  </thead>\n",
              "  <tbody>\n",
              "    <tr>\n",
              "      <th>0</th>\n",
              "      <td>11-1011.00</td>\n",
              "      <td>Chief Executives</td>\n",
              "      <td>Determine and formulate policies and provide o...</td>\n",
              "      <td>Reading Comprehension, Active Listening, Writi...</td>\n",
              "    </tr>\n",
              "    <tr>\n",
              "      <th>1</th>\n",
              "      <td>11-1011.03</td>\n",
              "      <td>Chief Sustainability Officers</td>\n",
              "      <td>Communicate and coordinate with management, sh...</td>\n",
              "      <td>Reading Comprehension, Active Listening, Writi...</td>\n",
              "    </tr>\n",
              "    <tr>\n",
              "      <th>2</th>\n",
              "      <td>11-1021.00</td>\n",
              "      <td>General and Operations Managers</td>\n",
              "      <td>Plan, direct, or coordinate the operations of ...</td>\n",
              "      <td>Reading Comprehension, Active Listening, Writi...</td>\n",
              "    </tr>\n",
              "    <tr>\n",
              "      <th>3</th>\n",
              "      <td>11-1031.00</td>\n",
              "      <td>Legislators</td>\n",
              "      <td>Develop, introduce or enact laws and statutes ...</td>\n",
              "      <td></td>\n",
              "    </tr>\n",
              "    <tr>\n",
              "      <th>4</th>\n",
              "      <td>11-2011.00</td>\n",
              "      <td>Advertising and Promotions Managers</td>\n",
              "      <td>Plan, direct, or coordinate advertising polici...</td>\n",
              "      <td>Reading Comprehension, Active Listening, Writi...</td>\n",
              "    </tr>\n",
              "  </tbody>\n",
              "</table>\n",
              "</div>"
            ],
            "text/plain": [
              "  O*NET-SOC Code  ...                                             Skills\n",
              "0     11-1011.00  ...  Reading Comprehension, Active Listening, Writi...\n",
              "1     11-1011.03  ...  Reading Comprehension, Active Listening, Writi...\n",
              "2     11-1021.00  ...  Reading Comprehension, Active Listening, Writi...\n",
              "3     11-1031.00  ...                                                   \n",
              "4     11-2011.00  ...  Reading Comprehension, Active Listening, Writi...\n",
              "\n",
              "[5 rows x 4 columns]"
            ]
          },
          "metadata": {
            "tags": []
          },
          "execution_count": 118
        }
      ]
    },
    {
      "cell_type": "code",
      "metadata": {
        "id": "uZ5BcTTz-Ean",
        "outputId": "ece93b28-c851-478e-83c1-2068ebcfce10",
        "colab": {
          "base_uri": "https://localhost:8080/",
          "height": 195
        }
      },
      "source": [
        "df = df.drop(columns=['O*NET-SOC Code'])\n",
        "df.head()"
      ],
      "execution_count": 15,
      "outputs": [
        {
          "output_type": "execute_result",
          "data": {
            "text/html": [
              "<div>\n",
              "<style scoped>\n",
              "    .dataframe tbody tr th:only-of-type {\n",
              "        vertical-align: middle;\n",
              "    }\n",
              "\n",
              "    .dataframe tbody tr th {\n",
              "        vertical-align: top;\n",
              "    }\n",
              "\n",
              "    .dataframe thead th {\n",
              "        text-align: right;\n",
              "    }\n",
              "</style>\n",
              "<table border=\"1\" class=\"dataframe\">\n",
              "  <thead>\n",
              "    <tr style=\"text-align: right;\">\n",
              "      <th></th>\n",
              "      <th>Title</th>\n",
              "      <th>Description</th>\n",
              "      <th>Skills</th>\n",
              "    </tr>\n",
              "  </thead>\n",
              "  <tbody>\n",
              "    <tr>\n",
              "      <th>0</th>\n",
              "      <td>Chief Executives</td>\n",
              "      <td>Determine and formulate policies and provide o...</td>\n",
              "      <td>Reading Comprehension, Active Listening, Writi...</td>\n",
              "    </tr>\n",
              "    <tr>\n",
              "      <th>1</th>\n",
              "      <td>Chief Sustainability Officers</td>\n",
              "      <td>Communicate and coordinate with management, sh...</td>\n",
              "      <td>Reading Comprehension, Active Listening, Writi...</td>\n",
              "    </tr>\n",
              "    <tr>\n",
              "      <th>2</th>\n",
              "      <td>General and Operations Managers</td>\n",
              "      <td>Plan, direct, or coordinate the operations of ...</td>\n",
              "      <td>Reading Comprehension, Active Listening, Writi...</td>\n",
              "    </tr>\n",
              "    <tr>\n",
              "      <th>3</th>\n",
              "      <td>Legislators</td>\n",
              "      <td>Develop, introduce or enact laws and statutes ...</td>\n",
              "      <td></td>\n",
              "    </tr>\n",
              "    <tr>\n",
              "      <th>4</th>\n",
              "      <td>Advertising and Promotions Managers</td>\n",
              "      <td>Plan, direct, or coordinate advertising polici...</td>\n",
              "      <td>Reading Comprehension, Active Listening, Writi...</td>\n",
              "    </tr>\n",
              "  </tbody>\n",
              "</table>\n",
              "</div>"
            ],
            "text/plain": [
              "                                 Title  ...                                             Skills\n",
              "0                     Chief Executives  ...  Reading Comprehension, Active Listening, Writi...\n",
              "1        Chief Sustainability Officers  ...  Reading Comprehension, Active Listening, Writi...\n",
              "2      General and Operations Managers  ...  Reading Comprehension, Active Listening, Writi...\n",
              "3                          Legislators  ...                                                   \n",
              "4  Advertising and Promotions Managers  ...  Reading Comprehension, Active Listening, Writi...\n",
              "\n",
              "[5 rows x 3 columns]"
            ]
          },
          "metadata": {
            "tags": []
          },
          "execution_count": 15
        }
      ]
    },
    {
      "cell_type": "markdown",
      "metadata": {
        "id": "JzWWL9oL9G_0"
      },
      "source": [
        "# Removing the stop words and lemmatizing the words present in Description Column"
      ]
    },
    {
      "cell_type": "markdown",
      "metadata": {
        "id": "BpyrgXBf85YW"
      },
      "source": [
        "Preprocessing the data"
      ]
    },
    {
      "cell_type": "code",
      "metadata": {
        "id": "F63hSmbWDbiZ",
        "outputId": "b0ba1a7e-8e0c-4704-9633-4818fcaaa918",
        "colab": {
          "base_uri": "https://localhost:8080/"
        }
      },
      "source": [
        "import nltk\n",
        "nltk.download('stopwords')"
      ],
      "execution_count": 16,
      "outputs": [
        {
          "output_type": "stream",
          "text": [
            "[nltk_data] Downloading package stopwords to /root/nltk_data...\n",
            "[nltk_data]   Package stopwords is already up-to-date!\n"
          ],
          "name": "stdout"
        },
        {
          "output_type": "execute_result",
          "data": {
            "text/plain": [
              "True"
            ]
          },
          "metadata": {
            "tags": []
          },
          "execution_count": 16
        }
      ]
    },
    {
      "cell_type": "code",
      "metadata": {
        "id": "RH2HYZFL9DVV"
      },
      "source": [
        "from nltk.corpus import stopwords\n",
        "stop = stopwords.words('english')\n",
        "\n",
        "df['Description'] = df['Description'].apply(lambda x: ' '.join([word for word in x.split() if word not in (stop)]))"
      ],
      "execution_count": 17,
      "outputs": []
    },
    {
      "cell_type": "markdown",
      "metadata": {
        "id": "Hhfe9J5b9hRc"
      },
      "source": [
        "Lemmatization"
      ]
    },
    {
      "cell_type": "code",
      "metadata": {
        "id": "XB-cXGiq9gdk"
      },
      "source": [
        "from nltk.stem import PorterStemmer\n",
        "stemmer = PorterStemmer()\n",
        "df['Description'] = df['Description'].apply(lambda x: ' '.join([stemmer.stem(word) for word in x.split()]))"
      ],
      "execution_count": 18,
      "outputs": []
    },
    {
      "cell_type": "code",
      "metadata": {
        "id": "CvBevNq79jnS"
      },
      "source": [
        "corpus = list(df['Description'])"
      ],
      "execution_count": 19,
      "outputs": []
    },
    {
      "cell_type": "markdown",
      "metadata": {
        "id": "iIwXzvpa-aZs"
      },
      "source": [
        "One hot encoding of Description column"
      ]
    },
    {
      "cell_type": "code",
      "metadata": {
        "id": "K_e67m4N9muA"
      },
      "source": [
        "from keras.preprocessing.text import one_hot\n",
        "\n",
        "# Declaring vocabulary size as 5000\n",
        "voc_size = 5000\n",
        "one_hot_repr = [one_hot(words,voc_size) for words in corpus]"
      ],
      "execution_count": 28,
      "outputs": []
    },
    {
      "cell_type": "markdown",
      "metadata": {
        "id": "lvCBH8zuAh1E"
      },
      "source": [
        "Make all the sentences in the columns of equal length"
      ]
    },
    {
      "cell_type": "code",
      "metadata": {
        "id": "9ePlliNd-o-D"
      },
      "source": [
        "from keras.preprocessing.sequence import pad_sequences \n",
        "sent_length = 70\n",
        "embedded_docs = pad_sequences(one_hot_repr,padding='pre',maxlen=sent_length)\n"
      ],
      "execution_count": 29,
      "outputs": []
    },
    {
      "cell_type": "markdown",
      "metadata": {
        "id": "tlP9O7Z_CUuY"
      },
      "source": [
        "Creating a column having index of each title which we will be used as output"
      ]
    },
    {
      "cell_type": "code",
      "metadata": {
        "id": "HUcVFTANDxQP",
        "outputId": "85203a31-21bd-4d3e-dd08-b409308cfa8f",
        "colab": {
          "base_uri": "https://localhost:8080/",
          "height": 195
        }
      },
      "source": [
        "import numpy as np\n",
        "data = np.arange(0, 1110)\n",
        "data = pd.Series(data)\n",
        "df['Title_Encoded']=data\n",
        "df.head()"
      ],
      "execution_count": 30,
      "outputs": [
        {
          "output_type": "execute_result",
          "data": {
            "text/html": [
              "<div>\n",
              "<style scoped>\n",
              "    .dataframe tbody tr th:only-of-type {\n",
              "        vertical-align: middle;\n",
              "    }\n",
              "\n",
              "    .dataframe tbody tr th {\n",
              "        vertical-align: top;\n",
              "    }\n",
              "\n",
              "    .dataframe thead th {\n",
              "        text-align: right;\n",
              "    }\n",
              "</style>\n",
              "<table border=\"1\" class=\"dataframe\">\n",
              "  <thead>\n",
              "    <tr style=\"text-align: right;\">\n",
              "      <th></th>\n",
              "      <th>Title</th>\n",
              "      <th>Description</th>\n",
              "      <th>Skills</th>\n",
              "      <th>Title_Encoded</th>\n",
              "    </tr>\n",
              "  </thead>\n",
              "  <tbody>\n",
              "    <tr>\n",
              "      <th>0</th>\n",
              "      <td>Chief Executives</td>\n",
              "      <td>determin formul polici provid overal direct co...</td>\n",
              "      <td>Reading Comprehension, Active Listening, Writi...</td>\n",
              "      <td>0</td>\n",
              "    </tr>\n",
              "    <tr>\n",
              "      <th>1</th>\n",
              "      <td>Chief Sustainability Officers</td>\n",
              "      <td>commun coordin management, shareholders, custo...</td>\n",
              "      <td>Reading Comprehension, Active Listening, Writi...</td>\n",
              "      <td>1</td>\n",
              "    </tr>\n",
              "    <tr>\n",
              "      <th>2</th>\n",
              "      <td>General and Operations Managers</td>\n",
              "      <td>plan, direct, coordin oper public privat secto...</td>\n",
              "      <td>Reading Comprehension, Active Listening, Writi...</td>\n",
              "      <td>2</td>\n",
              "    </tr>\n",
              "    <tr>\n",
              "      <th>3</th>\n",
              "      <td>Legislators</td>\n",
              "      <td>develop, introduc enact law statut local, trib...</td>\n",
              "      <td></td>\n",
              "      <td>3</td>\n",
              "    </tr>\n",
              "    <tr>\n",
              "      <th>4</th>\n",
              "      <td>Advertising and Promotions Managers</td>\n",
              "      <td>plan, direct, coordin advertis polici program ...</td>\n",
              "      <td>Reading Comprehension, Active Listening, Writi...</td>\n",
              "      <td>4</td>\n",
              "    </tr>\n",
              "  </tbody>\n",
              "</table>\n",
              "</div>"
            ],
            "text/plain": [
              "                                 Title  ... Title_Encoded\n",
              "0                     Chief Executives  ...             0\n",
              "1        Chief Sustainability Officers  ...             1\n",
              "2      General and Operations Managers  ...             2\n",
              "3                          Legislators  ...             3\n",
              "4  Advertising and Promotions Managers  ...             4\n",
              "\n",
              "[5 rows x 4 columns]"
            ]
          },
          "metadata": {
            "tags": []
          },
          "execution_count": 30
        }
      ]
    },
    {
      "cell_type": "markdown",
      "metadata": {
        "id": "gr1kIDlsE3l-"
      },
      "source": [
        "## Will train the model on entire data present (since each Title is present only once in the data frame)."
      ]
    },
    {
      "cell_type": "markdown",
      "metadata": {
        "id": "VU16mM7YEUwD"
      },
      "source": [
        "Making Embedded doc as input and Title_Encoded as dependent variable(output)"
      ]
    },
    {
      "cell_type": "code",
      "metadata": {
        "id": "rWW6YF1kDskQ"
      },
      "source": [
        "y = df['Title_Encoded']\n",
        "X_final=np.array(embedded_docs)\n",
        "y_final=np.array(y)"
      ],
      "execution_count": 31,
      "outputs": []
    },
    {
      "cell_type": "code",
      "metadata": {
        "id": "uPE7yIqnFbbW"
      },
      "source": [
        "from sklearn.model_selection import train_test_split\n",
        "X_train, X_test, y_train, y_test = train_test_split(X_final, y_final, test_size=0.33, random_state=30)"
      ],
      "execution_count": 32,
      "outputs": []
    },
    {
      "cell_type": "markdown",
      "metadata": {
        "id": "0VUk062tFqMO"
      },
      "source": [
        "Making entire dataset as train data"
      ]
    },
    {
      "cell_type": "code",
      "metadata": {
        "id": "R8OooeZsCNgY"
      },
      "source": [
        "X_train = X_final\n",
        "y_train = y_final\n"
      ],
      "execution_count": 33,
      "outputs": []
    },
    {
      "cell_type": "markdown",
      "metadata": {
        "id": "BVY_d0ifBzU6"
      },
      "source": [
        "Creating models"
      ]
    },
    {
      "cell_type": "markdown",
      "metadata": {
        "id": "fLYodUgMT_Aj"
      },
      "source": [
        "Creating sequential model. \n",
        "\n",
        "\n",
        "\n",
        "1.   Since still I am in learning phase, so tried hit and trial method for layers to be added. \n",
        "2.   Also tried with optimizer as 'adam' instead of 'rmsprop', but 'adam' resulted in less accuracy.\n",
        "\n",
        " "
      ]
    },
    {
      "cell_type": "code",
      "metadata": {
        "id": "63Hf6J9dBvoC",
        "outputId": "7d7d7052-99a6-461f-fd50-06d769d4819b",
        "colab": {
          "base_uri": "https://localhost:8080/"
        }
      },
      "source": [
        "from tensorflow.keras.layers import Embedding\n",
        "from tensorflow.keras.layers import Dense\n",
        "from tensorflow.keras.layers import LSTM\n",
        "from tensorflow.keras.layers import Dropout\n",
        "from keras.models import Sequential\n",
        "from keras import layers\n",
        "from keras import regularizers\n",
        "embedding_vector_features=70\n",
        "model=Sequential()\n",
        "\n",
        "model.add(Embedding(voc_size,embedding_vector_features,input_length=sent_length))\n",
        "model.add(LSTM(100))\n",
        "model.add(layers.Dense(64, activation='relu'))\n",
        "model.add(Dense(1110,activation='softmax'))\n",
        "model.compile(loss='categorical_crossentropy',optimizer='rmsprop',metrics=['accuracy'])\n",
        "\n",
        "\n",
        "print(model.summary())"
      ],
      "execution_count": 141,
      "outputs": [
        {
          "output_type": "stream",
          "text": [
            "Model: \"sequential_15\"\n",
            "_________________________________________________________________\n",
            "Layer (type)                 Output Shape              Param #   \n",
            "=================================================================\n",
            "embedding_14 (Embedding)     (None, 70, 70)            350000    \n",
            "_________________________________________________________________\n",
            "lstm_14 (LSTM)               (None, 100)               68400     \n",
            "_________________________________________________________________\n",
            "dense_23 (Dense)             (None, 64)                6464      \n",
            "_________________________________________________________________\n",
            "dense_24 (Dense)             (None, 1110)              72150     \n",
            "=================================================================\n",
            "Total params: 497,014\n",
            "Trainable params: 497,014\n",
            "Non-trainable params: 0\n",
            "_________________________________________________________________\n",
            "None\n"
          ],
          "name": "stdout"
        }
      ]
    },
    {
      "cell_type": "markdown",
      "metadata": {
        "id": "xzoAGcJ1qsG0"
      },
      "source": [
        "Converting dependent variable to categorical feature and passing number of possible classes"
      ]
    },
    {
      "cell_type": "code",
      "metadata": {
        "id": "9pj4VXe4Q__Y"
      },
      "source": [
        "from keras.utils import to_categorical\n",
        "from sklearn.preprocessing import LabelEncoder\n",
        "y_train_oh = to_categorical(y_train,num_classes=1110)\n",
        "y_test_oh = to_categorical(y_test,num_classes=1110)"
      ],
      "execution_count": 142,
      "outputs": []
    },
    {
      "cell_type": "markdown",
      "metadata": {
        "id": "WAHh4ASKTpmd"
      },
      "source": [
        "Tried with different batch sizes : 64,128,512...out of which 32 gave the best result"
      ]
    },
    {
      "cell_type": "code",
      "metadata": {
        "id": "PeBINzkNDkq8",
        "outputId": "24e3dccd-4ba3-48fc-a8ec-28b0c7608b95",
        "colab": {
          "base_uri": "https://localhost:8080/"
        }
      },
      "source": [
        "### Finally Training\n",
        "model.fit(X_train,y_train_oh,validation_data=(X_test,y_test_oh),epochs=40,batch_size=32)"
      ],
      "execution_count": 143,
      "outputs": [
        {
          "output_type": "stream",
          "text": [
            "Epoch 1/40\n",
            "35/35 [==============================] - 3s 96ms/step - loss: 7.0201 - accuracy: 0.0000e+00 - val_loss: 7.0109 - val_accuracy: 0.0082\n",
            "Epoch 2/40\n",
            "35/35 [==============================] - 3s 79ms/step - loss: 7.0130 - accuracy: 0.0027 - val_loss: 7.0016 - val_accuracy: 0.0218\n",
            "Epoch 3/40\n",
            "35/35 [==============================] - 2s 71ms/step - loss: 6.9950 - accuracy: 0.0036 - val_loss: 6.9452 - val_accuracy: 0.0054\n",
            "Epoch 4/40\n",
            "35/35 [==============================] - 2s 70ms/step - loss: 6.8787 - accuracy: 0.0045 - val_loss: 6.7060 - val_accuracy: 0.0000e+00\n",
            "Epoch 5/40\n",
            "35/35 [==============================] - 2s 71ms/step - loss: 6.6614 - accuracy: 0.0018 - val_loss: 6.4502 - val_accuracy: 0.0027\n",
            "Epoch 6/40\n",
            "35/35 [==============================] - 3s 72ms/step - loss: 6.4032 - accuracy: 0.0018 - val_loss: 6.1214 - val_accuracy: 0.0027\n",
            "Epoch 7/40\n",
            "35/35 [==============================] - 3s 72ms/step - loss: 6.1009 - accuracy: 0.0018 - val_loss: 5.7687 - val_accuracy: 0.0136\n",
            "Epoch 8/40\n",
            "35/35 [==============================] - 2s 70ms/step - loss: 5.7944 - accuracy: 0.0045 - val_loss: 5.4191 - val_accuracy: 0.0218\n",
            "Epoch 9/40\n",
            "35/35 [==============================] - 2s 71ms/step - loss: 5.5082 - accuracy: 0.0072 - val_loss: 5.1400 - val_accuracy: 0.0654\n",
            "Epoch 10/40\n",
            "35/35 [==============================] - 2s 70ms/step - loss: 5.2045 - accuracy: 0.0171 - val_loss: 4.7146 - val_accuracy: 0.1090\n",
            "Epoch 11/40\n",
            "35/35 [==============================] - 2s 71ms/step - loss: 4.8956 - accuracy: 0.0306 - val_loss: 4.4746 - val_accuracy: 0.1771\n",
            "Epoch 12/40\n",
            "35/35 [==============================] - 3s 72ms/step - loss: 4.5828 - accuracy: 0.0622 - val_loss: 4.1566 - val_accuracy: 0.1962\n",
            "Epoch 13/40\n",
            "35/35 [==============================] - 3s 72ms/step - loss: 4.3036 - accuracy: 0.0694 - val_loss: 3.8260 - val_accuracy: 0.2670\n",
            "Epoch 14/40\n",
            "35/35 [==============================] - 2s 71ms/step - loss: 3.9689 - accuracy: 0.1180 - val_loss: 3.6034 - val_accuracy: 0.3215\n",
            "Epoch 15/40\n",
            "35/35 [==============================] - 2s 71ms/step - loss: 3.7256 - accuracy: 0.1505 - val_loss: 3.3475 - val_accuracy: 0.3215\n",
            "Epoch 16/40\n",
            "35/35 [==============================] - 3s 72ms/step - loss: 3.4564 - accuracy: 0.1883 - val_loss: 3.0637 - val_accuracy: 0.4360\n",
            "Epoch 17/40\n",
            "35/35 [==============================] - 2s 71ms/step - loss: 3.2112 - accuracy: 0.2441 - val_loss: 2.6921 - val_accuracy: 0.5913\n",
            "Epoch 18/40\n",
            "35/35 [==============================] - 3s 73ms/step - loss: 2.9783 - accuracy: 0.3135 - val_loss: 2.3876 - val_accuracy: 0.6921\n",
            "Epoch 19/40\n",
            "35/35 [==============================] - 3s 73ms/step - loss: 2.7311 - accuracy: 0.3486 - val_loss: 2.4561 - val_accuracy: 0.5668\n",
            "Epoch 20/40\n",
            "35/35 [==============================] - 2s 71ms/step - loss: 2.5407 - accuracy: 0.3757 - val_loss: 1.9561 - val_accuracy: 0.7657\n",
            "Epoch 21/40\n",
            "35/35 [==============================] - 3s 72ms/step - loss: 2.3221 - accuracy: 0.4703 - val_loss: 1.9887 - val_accuracy: 0.6621\n",
            "Epoch 22/40\n",
            "35/35 [==============================] - 2s 71ms/step - loss: 2.1391 - accuracy: 0.5027 - val_loss: 1.5962 - val_accuracy: 0.8529\n",
            "Epoch 23/40\n",
            "35/35 [==============================] - 3s 72ms/step - loss: 1.9693 - accuracy: 0.5541 - val_loss: 1.4774 - val_accuracy: 0.8065\n",
            "Epoch 24/40\n",
            "35/35 [==============================] - 3s 73ms/step - loss: 1.7946 - accuracy: 0.6081 - val_loss: 1.2464 - val_accuracy: 0.8801\n",
            "Epoch 25/40\n",
            "35/35 [==============================] - 2s 71ms/step - loss: 1.6499 - accuracy: 0.6369 - val_loss: 1.1054 - val_accuracy: 0.8910\n",
            "Epoch 26/40\n",
            "35/35 [==============================] - 3s 72ms/step - loss: 1.4995 - accuracy: 0.6739 - val_loss: 1.0445 - val_accuracy: 0.9074\n",
            "Epoch 27/40\n",
            "35/35 [==============================] - 2s 71ms/step - loss: 1.3711 - accuracy: 0.7153 - val_loss: 0.9716 - val_accuracy: 0.9101\n",
            "Epoch 28/40\n",
            "35/35 [==============================] - 3s 72ms/step - loss: 1.2442 - accuracy: 0.7586 - val_loss: 0.8058 - val_accuracy: 0.9292\n",
            "Epoch 29/40\n",
            "35/35 [==============================] - 3s 73ms/step - loss: 1.1299 - accuracy: 0.7721 - val_loss: 0.8049 - val_accuracy: 0.8992\n",
            "Epoch 30/40\n",
            "35/35 [==============================] - 3s 74ms/step - loss: 1.0475 - accuracy: 0.7892 - val_loss: 0.5835 - val_accuracy: 0.9510\n",
            "Epoch 31/40\n",
            "35/35 [==============================] - 3s 73ms/step - loss: 0.9348 - accuracy: 0.8315 - val_loss: 0.5810 - val_accuracy: 0.9510\n",
            "Epoch 32/40\n",
            "35/35 [==============================] - 3s 72ms/step - loss: 0.8630 - accuracy: 0.8306 - val_loss: 0.5657 - val_accuracy: 0.9455\n",
            "Epoch 33/40\n",
            "35/35 [==============================] - 2s 71ms/step - loss: 0.7841 - accuracy: 0.8505 - val_loss: 0.5650 - val_accuracy: 0.9373\n",
            "Epoch 34/40\n",
            "35/35 [==============================] - 3s 72ms/step - loss: 0.7052 - accuracy: 0.8793 - val_loss: 0.4490 - val_accuracy: 0.9537\n",
            "Epoch 35/40\n",
            "35/35 [==============================] - 3s 72ms/step - loss: 0.6708 - accuracy: 0.8676 - val_loss: 0.4849 - val_accuracy: 0.9319\n",
            "Epoch 36/40\n",
            "35/35 [==============================] - 3s 74ms/step - loss: 0.5446 - accuracy: 0.9063 - val_loss: 0.3816 - val_accuracy: 0.9455\n",
            "Epoch 37/40\n",
            "35/35 [==============================] - 3s 72ms/step - loss: 0.5513 - accuracy: 0.9000 - val_loss: 0.3112 - val_accuracy: 0.9728\n",
            "Epoch 38/40\n",
            "35/35 [==============================] - 3s 73ms/step - loss: 0.4644 - accuracy: 0.9225 - val_loss: 0.3133 - val_accuracy: 0.9728\n",
            "Epoch 39/40\n",
            "35/35 [==============================] - 2s 71ms/step - loss: 0.4316 - accuracy: 0.9252 - val_loss: 0.3716 - val_accuracy: 0.9510\n",
            "Epoch 40/40\n",
            "35/35 [==============================] - 3s 72ms/step - loss: 0.4140 - accuracy: 0.9297 - val_loss: 0.2577 - val_accuracy: 0.9809\n"
          ],
          "name": "stdout"
        },
        {
          "output_type": "execute_result",
          "data": {
            "text/plain": [
              "<tensorflow.python.keras.callbacks.History at 0x7f4b9c502e80>"
            ]
          },
          "metadata": {
            "tags": []
          },
          "execution_count": 143
        }
      ]
    },
    {
      "cell_type": "code",
      "metadata": {
        "id": "ScwzrHdXXhiJ"
      },
      "source": [
        ""
      ],
      "execution_count": null,
      "outputs": []
    },
    {
      "cell_type": "markdown",
      "metadata": {
        "id": "rpDYdBfrfz7x"
      },
      "source": [
        "Create function to predict the job title and skills based on description"
      ]
    },
    {
      "cell_type": "code",
      "metadata": {
        "id": "pvnSgZHIXF9b"
      },
      "source": [
        "def pred_result(data,model):\n",
        "\n",
        "    # Perform cleaning of input data before prediction\n",
        "    # Remove Stop Word\n",
        "    \n",
        "    data = data.apply(lambda x: ' '.join([word for word in x.split() if word not in (stop)]))\n",
        "\n",
        "    # Lemmatization\n",
        "    data = data.apply(lambda x: ' '.join([stemmer.stem(word) for word in x.split()]))\n",
        "    data_list = list(data)\n",
        "    voc_size = 5000\n",
        "    one_hot_repr = [one_hot(words,voc_size) for words in data_list]\n",
        "    sent_length = 70\n",
        "    embedded_docs = pad_sequences(one_hot_repr,padding='pre',maxlen=sent_length)    \n",
        "    X_pred=np.array(embedded_docs)\n",
        "    model.fit(X_train,y_train_oh,epochs=40,batch_size=32, verbose=0)\n",
        "    results = model.predict_classes(X_pred)\n",
        "    return results"
      ],
      "execution_count": 107,
      "outputs": []
    },
    {
      "cell_type": "markdown",
      "metadata": {
        "id": "DJbBrMfwgX57"
      },
      "source": [
        "Result contains the index of all the job title from which we can get job title as well as skills"
      ]
    },
    {
      "cell_type": "code",
      "metadata": {
        "id": "aGXMBuqQF7yP"
      },
      "source": [
        "result = pred_result(df['Description'],model)"
      ],
      "execution_count": 108,
      "outputs": []
    },
    {
      "cell_type": "markdown",
      "metadata": {
        "id": "k7bh7tSKhM_a"
      },
      "source": [
        "Create predicted data frame"
      ]
    },
    {
      "cell_type": "code",
      "metadata": {
        "id": "FPuBLnyFfltL"
      },
      "source": [
        "pred_title = []\n",
        "pred_skill = []\n",
        "for i in range(len(result)):\n",
        "    pred_title.append(df_orig.iloc[i,1])\n",
        "    pred_skill.append(df_orig.iloc[i,3])\n"
      ],
      "execution_count": null,
      "outputs": []
    },
    {
      "cell_type": "code",
      "metadata": {
        "id": "QMcvwASDWuIU",
        "outputId": "c50a73be-a408-4027-826d-1a795da60d6a",
        "colab": {
          "base_uri": "https://localhost:8080/",
          "height": 195
        }
      },
      "source": [
        "predicted_Title = pd.Series(pred_title)\n",
        "predicted_Skills = pd.Series(pred_skill)\n",
        "\n",
        "data = {'Description':  list(df_orig['Description']),\n",
        "        'Predicted_Title': predicted_Title,\n",
        "        'Predicted_Skills': predicted_Skills \n",
        "        }\n",
        "\n",
        "df_predicted = pd.DataFrame (data, columns = ['Description','Predicted_Title','Predicted_Skills'])\n",
        "\n",
        "\n",
        "\n",
        "df_predicted.head()"
      ],
      "execution_count": 129,
      "outputs": [
        {
          "output_type": "execute_result",
          "data": {
            "text/html": [
              "<div>\n",
              "<style scoped>\n",
              "    .dataframe tbody tr th:only-of-type {\n",
              "        vertical-align: middle;\n",
              "    }\n",
              "\n",
              "    .dataframe tbody tr th {\n",
              "        vertical-align: top;\n",
              "    }\n",
              "\n",
              "    .dataframe thead th {\n",
              "        text-align: right;\n",
              "    }\n",
              "</style>\n",
              "<table border=\"1\" class=\"dataframe\">\n",
              "  <thead>\n",
              "    <tr style=\"text-align: right;\">\n",
              "      <th></th>\n",
              "      <th>Description</th>\n",
              "      <th>Predicted_Title</th>\n",
              "      <th>Predicted_Skills</th>\n",
              "    </tr>\n",
              "  </thead>\n",
              "  <tbody>\n",
              "    <tr>\n",
              "      <th>0</th>\n",
              "      <td>Determine and formulate policies and provide o...</td>\n",
              "      <td>Chief Executives</td>\n",
              "      <td>Reading Comprehension, Active Listening, Writi...</td>\n",
              "    </tr>\n",
              "    <tr>\n",
              "      <th>1</th>\n",
              "      <td>Communicate and coordinate with management, sh...</td>\n",
              "      <td>Chief Sustainability Officers</td>\n",
              "      <td>Reading Comprehension, Active Listening, Writi...</td>\n",
              "    </tr>\n",
              "    <tr>\n",
              "      <th>2</th>\n",
              "      <td>Plan, direct, or coordinate the operations of ...</td>\n",
              "      <td>General and Operations Managers</td>\n",
              "      <td>Reading Comprehension, Active Listening, Writi...</td>\n",
              "    </tr>\n",
              "    <tr>\n",
              "      <th>3</th>\n",
              "      <td>Develop, introduce or enact laws and statutes ...</td>\n",
              "      <td>Legislators</td>\n",
              "      <td></td>\n",
              "    </tr>\n",
              "    <tr>\n",
              "      <th>4</th>\n",
              "      <td>Plan, direct, or coordinate advertising polici...</td>\n",
              "      <td>Advertising and Promotions Managers</td>\n",
              "      <td>Reading Comprehension, Active Listening, Writi...</td>\n",
              "    </tr>\n",
              "  </tbody>\n",
              "</table>\n",
              "</div>"
            ],
            "text/plain": [
              "                                         Description  ...                                   Predicted_Skills\n",
              "0  Determine and formulate policies and provide o...  ...  Reading Comprehension, Active Listening, Writi...\n",
              "1  Communicate and coordinate with management, sh...  ...  Reading Comprehension, Active Listening, Writi...\n",
              "2  Plan, direct, or coordinate the operations of ...  ...  Reading Comprehension, Active Listening, Writi...\n",
              "3  Develop, introduce or enact laws and statutes ...  ...                                                   \n",
              "4  Plan, direct, or coordinate advertising polici...  ...  Reading Comprehension, Active Listening, Writi...\n",
              "\n",
              "[5 rows x 3 columns]"
            ]
          },
          "metadata": {
            "tags": []
          },
          "execution_count": 129
        }
      ]
    },
    {
      "cell_type": "code",
      "metadata": {
        "id": "elJOaoLYoRAe"
      },
      "source": [
        "df_predicted.to_csv(path+'/Prediction_deliver.csv')"
      ],
      "execution_count": 131,
      "outputs": []
    },
    {
      "cell_type": "code",
      "metadata": {
        "id": "Q4cTUv2npY45"
      },
      "source": [
        ""
      ],
      "execution_count": null,
      "outputs": []
    }
  ]
}